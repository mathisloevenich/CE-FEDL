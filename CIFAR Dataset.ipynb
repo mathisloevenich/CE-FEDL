{
 "cells": [
  {
   "cell_type": "code",
   "execution_count": 2,
   "id": "f9bd2e4b-b48c-4d7a-94a1-b989d9bc49ef",
   "metadata": {
    "tags": []
   },
   "outputs": [],
   "source": [
    "import torch\n",
    "import torchvision\n",
    "import numpy as np\n",
    "from torch.utils.data import DataLoader\n",
    "from fedlab.utils.dataset.partition import CIFAR10Partitioner"
   ]
  },
  {
   "cell_type": "markdown",
   "id": "a1a21930-8f93-4bbd-9ed6-b14c9f312818",
   "metadata": {},
   "source": [
    "## Downloading the CIFAR dataset"
   ]
  },
  {
   "cell_type": "markdown",
   "id": "1afa466f-a2d3-428c-9768-87888acebd94",
   "metadata": {},
   "source": [
    "Download the CIFAR dataset from torchvision. It will be downloaded to the folder specified by ``root``."
   ]
  },
  {
   "cell_type": "code",
   "execution_count": 4,
   "id": "29988228-cd61-4a9e-a1d8-c467a6f385f1",
   "metadata": {
    "tags": []
   },
   "outputs": [
    {
     "name": "stdout",
     "output_type": "stream",
     "text": [
      "Files already downloaded and verified\n",
      "Files already downloaded and verified\n"
     ]
    }
   ],
   "source": [
    "train_data = torchvision.datasets.CIFAR10(root=\"cifar_data\", train=True, download=True)\n",
    "test_data = torchvision.datasets.CIFAR10(root=\"cifar_data\", train=False, download=True)"
   ]
  },
  {
   "cell_type": "code",
   "execution_count": 5,
   "id": "7f584b28-c536-4666-b2d8-a307fb54742b",
   "metadata": {
    "tags": []
   },
   "outputs": [],
   "source": [
    "X_train = (train_data.data / 255).astype(np.float32).transpose(0, 3, 1, 2)\n",
    "y_train = np.array(train_data.targets, dtype=np.int64)\n",
    "\n",
    "X_test = (test_data.data / 255).astype(np.float32).transpose(0, 3, 1, 2)\n",
    "y_test = np.array(test_data.targets, dtype=np.int64)"
   ]
  },
  {
   "cell_type": "markdown",
   "id": "418433fe-b86d-4f1e-aa1e-d2d67b3f8e41",
   "metadata": {},
   "source": [
    "## Using the CIFAR dataset"
   ]
  },
  {
   "cell_type": "markdown",
   "id": "8e2909dc-68a2-4c82-bb54-371d04272738",
   "metadata": {},
   "source": [
    "The partitioner from fedlab (https://fedlab.readthedocs.io/en/master/tutorials/cifar10_tutorial.html) is used to create an imbalanced, non-iid partitioned version of the CIFAR dataset. The data is partitioned into 750 clients, so that the number of samples on each client ranges from about 10 to 250.\n",
    "\n",
    "The test data however has a balanced distribution, so that the models can be fairly tested."
   ]
  },
  {
   "cell_type": "code",
   "execution_count": 6,
   "id": "d2980628-458e-4a4d-8de9-825c91a8aef8",
   "metadata": {
    "tags": []
   },
   "outputs": [],
   "source": [
    "partitioned_train_data = CIFAR10Partitioner(train_data.targets,\n",
    "                                              750,\n",
    "                                              balance=None,\n",
    "                                              partition=\"dirichlet\",\n",
    "                                              dir_alpha=0.3,\n",
    "                                              seed=42)"
   ]
  },
  {
   "cell_type": "code",
   "execution_count": 7,
   "id": "fa4afc7e-4615-4e2a-83dc-6be2064a7630",
   "metadata": {
    "tags": []
   },
   "outputs": [],
   "source": [
    "partitioned_test_data = CIFAR10Partitioner(test_data.targets,\n",
    "                                           750,\n",
    "                                           balance=True,\n",
    "                                           partition=\"iid\",\n",
    "                                           seed=42)"
   ]
  },
  {
   "cell_type": "markdown",
   "id": "e0e6341b-dbd0-430f-a801-a7452cabef3b",
   "metadata": {},
   "source": [
    "Putting the data into dataloaders:"
   ]
  },
  {
   "cell_type": "code",
   "execution_count": 8,
   "id": "d2d1499e-2a57-4a34-9758-5650093e60de",
   "metadata": {
    "tags": []
   },
   "outputs": [],
   "source": [
    "all_client_trainloaders = []\n",
    "all_client_testloaders = []\n",
    "\n",
    "for client in range (750):\n",
    "    \n",
    "    client_X_train = X_train[partitioned_train_data[client], :, :, :]\n",
    "    client_y_train = y_train[partitioned_train_data[client]]\n",
    "    torch.manual_seed(47)\n",
    "    train_loader = DataLoader(dataset=list(zip(client_X_train, client_y_train)),\n",
    "                              batch_size=32,\n",
    "                              shuffle=True,\n",
    "                              pin_memory=True)\n",
    "    \n",
    "    client_X_test = X_test[partitioned_test_data[client], :, :, :]\n",
    "    client_y_test = y_test[partitioned_test_data[client]]\n",
    "    torch.manual_seed(47)\n",
    "    test_loader = DataLoader(dataset=list(zip(client_X_test, client_y_test)),\n",
    "                              batch_size=32,\n",
    "                              shuffle=True,\n",
    "                              pin_memory=True)\n",
    "    \n",
    "    all_client_trainloaders.append(train_loader)\n",
    "    all_client_testloaders.append(test_loader)"
   ]
  },
  {
   "cell_type": "markdown",
   "id": "cf13a6d2-47e6-46ce-aa4d-44719cb2408d",
   "metadata": {},
   "source": [
    "These dataloaders can then be imported into each client using code along the lines of:\n",
    "\n",
    "```python\n",
    "def client_fn(cid):  \n",
    "    model = resnet18().to(DEVICE)\n",
    "    trainloader = all_client_trainloaders[int(cid)]\n",
    "    testloader = all_client_testloaders[int(cid)]\n",
    "    return FlowerClient(cid, model, trainloader, testloader)\n",
    "\n",
    "fl.simulation.start_simulation(\n",
    "client_fn=client_fn,\n",
    "num_clients=len(all_client_trainloaders),\n",
    "config=fl.server.ServerConfig(num_rounds=1000),\n",
    "strategy=FedAvg(),\n",
    "client_resources=client_resources)\n",
    "```"
   ]
  },
  {
   "cell_type": "code",
   "execution_count": null,
   "id": "1c7c1dc4-b105-433d-b0cb-faa6012e700c",
   "metadata": {},
   "outputs": [],
   "source": []
  }
 ],
 "metadata": {
  "kernelspec": {
   "display_name": "Python 3 (ipykernel)",
   "language": "python",
   "name": "python3"
  },
  "language_info": {
   "codemirror_mode": {
    "name": "ipython",
    "version": 3
   },
   "file_extension": ".py",
   "mimetype": "text/x-python",
   "name": "python",
   "nbconvert_exporter": "python",
   "pygments_lexer": "ipython3",
   "version": "3.9.12"
  }
 },
 "nbformat": 4,
 "nbformat_minor": 5
}

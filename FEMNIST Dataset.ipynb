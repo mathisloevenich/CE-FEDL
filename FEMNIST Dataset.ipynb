{
 "cells": [
  {
   "cell_type": "code",
   "execution_count": 1,
   "id": "14348860-0764-42dd-b0e6-0f48dd921721",
   "metadata": {
    "tags": []
   },
   "outputs": [],
   "source": [
    "import json\n",
    "import numpy as np\n",
    "import torch\n",
    "from torch.utils.data import DataLoader, random_split\n",
    "from tqdm import tqdm"
   ]
  },
  {
   "cell_type": "markdown",
   "id": "e965cd84-95b6-4ca3-8067-c82d95464d27",
   "metadata": {},
   "source": [
    "## Downloading the FEMNIST dataset"
   ]
  },
  {
   "cell_type": "markdown",
   "id": "f7b5857d-ae9a-48e0-afec-e33b4dd4a7f9",
   "metadata": {},
   "source": [
    "I have uploaded the FEMNIST dataset to Github as a zip file. Simply download and extract it.\n",
    "\n",
    "Alternatively, if you want to download the data yourself from the source, clone the leaf repo (https://github.com/TalwalkarLab/leaf/tree/master) and then run the following command within the femnist folder:\n",
    "```bash\n",
    "./preprocess.sh -s niid --iu 1.0 --sf 1.0 -k 0 -t sample --smplseed 42 --spltseed 42\n",
    "```\n",
    "\n",
    "There is also a bug in the file ``data/femnist/preprocess/data_to_json.py``. Line 64: ``gray.thumbnail(size, Image.ANTIALIAS)`` must be changed to: ``gray.thumbnail(size, Image.LANCZOS)``."
   ]
  },
  {
   "cell_type": "markdown",
   "id": "b620d1d6-bf5d-490c-9d6c-d5d3772770b1",
   "metadata": {},
   "source": [
    "## Using the FEMNIST dataset"
   ]
  },
  {
   "cell_type": "markdown",
   "id": "eb5e1a1f-174f-4791-9bfc-3f4a299a9f23",
   "metadata": {},
   "source": [
    "Run the following code to extract the data into dataloaders, for use in Flower. Remember to provide the correct file path, to where you extracted the data."
   ]
  },
  {
   "cell_type": "code",
   "execution_count": 4,
   "id": "9c433804-e487-4338-8b74-f713589fdb3b",
   "metadata": {
    "tags": []
   },
   "outputs": [
    {
     "name": "stderr",
     "output_type": "stream",
     "text": [
      "100%|██████████████████████████████████████████████████████████████████████████████████| 36/36 [04:33<00:00,  7.60s/it]\n"
     ]
    }
   ],
   "source": [
    "path_to_data_folder = \"femnist_data\" # EDIT THIS WITH THE PATH TO THE DATA FOLDER\n",
    "\n",
    "all_client_trainloaders = []\n",
    "all_client_valloaders = []\n",
    "\n",
    "for i in tqdm(range(0, 36)): # for each json file\n",
    "    with open(f\"{path_to_data_folder}/all_data_{i}.json\") as file:\n",
    "\n",
    "        # load the 100 clients in each json file\n",
    "        data = json.load(file)\n",
    "        all_clients = data[\"users\"]\n",
    "        \n",
    "        for client in all_clients:\n",
    "            # load the dataset from one client\n",
    "            X_data = data[\"user_data\"][client][\"x\"]\n",
    "            num_samples = len(X_data)\n",
    "            X_data = np.array(X_data).reshape(num_samples, 1, 28, 28) # reshape into BxCxHxW\n",
    "            y_data = np.array(data[\"user_data\"][client][\"y\"], dtype=np.int64)\n",
    "        \n",
    "            # split into test and train data\n",
    "            X_train, X_test = random_split(X_data, (0.9, 0.1), torch.Generator().manual_seed(42))\n",
    "            y_train, y_test = random_split(y_data, (0.9, 0.1), torch.Generator().manual_seed(42))\n",
    "\n",
    "            # put the dataset into dataloaders\n",
    "            torch.manual_seed(47)\n",
    "            train_loader = DataLoader(dataset=list(zip(X_train, y_train)),\n",
    "                                      batch_size=32,\n",
    "                                      shuffle=True,\n",
    "                                      pin_memory=True)\n",
    "            torch.manual_seed(47)\n",
    "            test_loader = DataLoader(dataset=list(zip(X_test, y_test)),\n",
    "                                     batch_size=32,\n",
    "                                     shuffle=True,\n",
    "                                     pin_memory=True)\n",
    "    \n",
    "            # add the dataloader to the overall list\n",
    "            all_client_trainloaders.append(train_loader)\n",
    "            all_client_valloaders.append(test_loader)"
   ]
  },
  {
   "cell_type": "markdown",
   "id": "579affbd-7f3a-49ed-baba-f776d731a500",
   "metadata": {},
   "source": [
    "These dataloaders can then be imported into each client using code along the lines of:\n",
    "\n",
    "```python\n",
    "def client_fn(cid):  \n",
    "    model = resnet18().to(DEVICE)\n",
    "    trainloader = all_client_trainloaders[int(cid)]\n",
    "    valloader = all_client_valloaders[int(cid)]\n",
    "    return FlowerClient(cid, model, trainloader, valloader)\n",
    "\n",
    "fl.simulation.start_simulation(\n",
    "client_fn=client_fn,\n",
    "num_clients=len(all_client_trainloaders),\n",
    "config=fl.server.ServerConfig(num_rounds=1000),\n",
    "strategy=FedAvg(),\n",
    "client_resources=client_resources)\n",
    "```"
   ]
  }
 ],
 "metadata": {
  "kernelspec": {
   "display_name": "Python 3 (ipykernel)",
   "language": "python",
   "name": "python3"
  },
  "language_info": {
   "codemirror_mode": {
    "name": "ipython",
    "version": 3
   },
   "file_extension": ".py",
   "mimetype": "text/x-python",
   "name": "python",
   "nbconvert_exporter": "python",
   "pygments_lexer": "ipython3",
   "version": "3.9.12"
  }
 },
 "nbformat": 4,
 "nbformat_minor": 5
}

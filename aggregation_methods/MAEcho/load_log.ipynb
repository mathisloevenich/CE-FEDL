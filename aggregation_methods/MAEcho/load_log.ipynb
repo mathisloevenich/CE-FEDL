{
 "cells": [
  {
   "cell_type": "code",
   "execution_count": 1,
   "metadata": {},
   "outputs": [],
   "source": [
    "import torch"
   ]
  },
  {
   "cell_type": "code",
   "execution_count": 3,
   "metadata": {},
   "outputs": [],
   "source": [
    "log_data = torch.load(\"logfinal/Flase_30_500cnn_logdata_0_2_cifar\")"
   ]
  },
  {
   "cell_type": "code",
   "execution_count": 4,
   "metadata": {},
   "outputs": [],
   "source": [
    "ours_ot_acc = log_data['ours_ot']['acc']\n",
    "ours_acc = log_data['ours']['acc']\n",
    "ensemble_acc = log_data['ensemble_acc']\n",
    "ot_acc = log_data['ot_acc']\n",
    "fedavg_acc = log_data['fedavg_acc']\n",
    "all_model_acc = log_data['all_model_acc']\n",
    "partition = log_data['partition']"
   ]
  },
  {
   "cell_type": "code",
   "execution_count": 6,
   "metadata": {},
   "outputs": [
    {
     "data": {
      "text/plain": [
       "(31, 3)"
      ]
     },
     "execution_count": 6,
     "metadata": {},
     "output_type": "execute_result"
    }
   ],
   "source": [
    "ours_acc.shape"
   ]
  },
  {
   "cell_type": "code",
   "execution_count": 7,
   "metadata": {},
   "outputs": [
    {
     "data": {
      "text/plain": [
       "58.51"
      ]
     },
     "execution_count": 7,
     "metadata": {},
     "output_type": "execute_result"
    }
   ],
   "source": [
    "fedavg_acc"
   ]
  },
  {
   "cell_type": "code",
   "execution_count": 8,
   "metadata": {},
   "outputs": [
    {
     "data": {
      "text/plain": [
       "59.53"
      ]
     },
     "execution_count": 8,
     "metadata": {},
     "output_type": "execute_result"
    }
   ],
   "source": [
    "ensemble_acc"
   ]
  },
  {
   "cell_type": "code",
   "execution_count": 5,
   "metadata": {},
   "outputs": [
    {
     "data": {
      "text/plain": [
       "array([[58.29, 58.73, 58.51],\n",
       "       [58.14, 58.67, 58.63],\n",
       "       [57.93, 58.64, 58.25],\n",
       "       [57.83, 58.5 , 58.5 ],\n",
       "       [57.8 , 58.53, 58.34],\n",
       "       [57.84, 58.52, 58.41],\n",
       "       [57.81, 58.49, 58.33],\n",
       "       [57.84, 58.46, 58.41],\n",
       "       [57.84, 58.45, 58.3 ],\n",
       "       [57.8 , 58.38, 58.4 ],\n",
       "       [57.82, 58.4 , 58.28],\n",
       "       [57.8 , 58.33, 58.38],\n",
       "       [57.82, 58.31, 58.3 ],\n",
       "       [57.79, 58.27, 58.42],\n",
       "       [57.9 , 58.31, 58.32],\n",
       "       [57.84, 58.25, 58.41],\n",
       "       [57.86, 58.27, 58.34],\n",
       "       [57.81, 58.23, 58.41],\n",
       "       [57.87, 58.22, 58.35],\n",
       "       [57.86, 58.21, 58.44],\n",
       "       [57.88, 58.23, 58.35],\n",
       "       [57.85, 58.19, 58.46],\n",
       "       [57.87, 58.23, 58.36],\n",
       "       [57.86, 58.16, 58.48],\n",
       "       [57.88, 58.22, 58.37],\n",
       "       [57.85, 58.18, 58.47],\n",
       "       [57.91, 58.2 , 58.42],\n",
       "       [57.84, 58.17, 58.48],\n",
       "       [57.91, 58.25, 58.45],\n",
       "       [57.85, 58.2 , 58.51],\n",
       "       [57.89, 58.26, 58.4 ]])"
      ]
     },
     "execution_count": 5,
     "metadata": {},
     "output_type": "execute_result"
    }
   ],
   "source": [
    "ours_acc[:, :]"
   ]
  },
  {
   "cell_type": "code",
   "execution_count": null,
   "metadata": {},
   "outputs": [],
   "source": []
  }
 ],
 "metadata": {
  "kernelspec": {
   "display_name": "cuda",
   "language": "python",
   "name": "python3"
  },
  "language_info": {
   "codemirror_mode": {
    "name": "ipython",
    "version": 3
   },
   "file_extension": ".py",
   "mimetype": "text/x-python",
   "name": "python",
   "nbconvert_exporter": "python",
   "pygments_lexer": "ipython3",
   "version": "3.10.13"
  }
 },
 "nbformat": 4,
 "nbformat_minor": 2
}

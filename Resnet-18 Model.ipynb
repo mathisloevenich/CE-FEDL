{
 "cells": [
  {
   "cell_type": "code",
   "execution_count": null,
   "id": "7c23e791-b554-4cc7-9f48-f001c25d5e6a",
   "metadata": {
    "tags": []
   },
   "outputs": [],
   "source": [
    "import torch\n",
    "from torch import nn\n",
    "from torchvision.models import resnet18\n",
    "import torchinfo\n",
    "\n",
    "device = 'cuda' if torch.cuda.is_available() else 'cpu'"
   ]
  },
  {
   "cell_type": "markdown",
   "id": "77f23298-6e73-4682-bb81-e29eb3834235",
   "metadata": {},
   "source": [
    "**Use utils.py to use the Resnet-18 model:**\n",
    "\n",
    "```python\n",
    "import utils\n",
    "model = utils.femnist_model()\n",
    "```"
   ]
  },
  {
   "cell_type": "markdown",
   "id": "c4308f16-1d78-41b0-81ed-901381766f09",
   "metadata": {},
   "source": [
    "## RESNET-18 for MNIST"
   ]
  },
  {
   "cell_type": "markdown",
   "id": "d10a5f4a-d509-49cf-a442-4b2ded01900c",
   "metadata": {},
   "source": [
    "The following code can be used to create the initial model on the server:"
   ]
  },
  {
   "cell_type": "code",
   "execution_count": null,
   "id": "b39dc32c-ac37-4e4d-be0e-350313a943e9",
   "metadata": {
    "tags": []
   },
   "outputs": [],
   "source": [
    "torch.manual_seed(47) # set manual seed so the model always has the same initial parameters\n",
    "mnist_model = resnet18(num_classes=62) # 62 classes for femnist -> 26 lower case letters + 26 upper case letters + 10 numbers\n",
    "mnist_model.conv1 = nn.Conv2d(1, 64, kernel_size=(7, 7), stride=(2, 2), padding=(3, 3), bias=False) # change number of channels to 1 for mnist"
   ]
  },
  {
   "cell_type": "code",
   "execution_count": 10,
   "id": "40fa9ae8-0248-42d5-8a07-8b49bb7d9a87",
   "metadata": {
    "tags": []
   },
   "outputs": [
    {
     "data": {
      "text/plain": [
       "============================================================================================================================================\n",
       "Layer (type (var_name))                  Input Shape               Output Shape              Param #                   Trainable\n",
       "============================================================================================================================================\n",
       "ResNet (ResNet)                          [1000, 1, 28, 28]         [1000, 62]                --                        True\n",
       "├─Conv2d (conv1)                         [1000, 1, 28, 28]         [1000, 64, 14, 14]        3,136                     True\n",
       "├─BatchNorm2d (bn1)                      [1000, 64, 14, 14]        [1000, 64, 14, 14]        128                       True\n",
       "├─ReLU (relu)                            [1000, 64, 14, 14]        [1000, 64, 14, 14]        --                        --\n",
       "├─MaxPool2d (maxpool)                    [1000, 64, 14, 14]        [1000, 64, 7, 7]          --                        --\n",
       "├─Sequential (layer1)                    [1000, 64, 7, 7]          [1000, 64, 7, 7]          --                        True\n",
       "│    └─BasicBlock (0)                    [1000, 64, 7, 7]          [1000, 64, 7, 7]          --                        True\n",
       "│    │    └─Conv2d (conv1)               [1000, 64, 7, 7]          [1000, 64, 7, 7]          36,864                    True\n",
       "│    │    └─BatchNorm2d (bn1)            [1000, 64, 7, 7]          [1000, 64, 7, 7]          128                       True\n",
       "│    │    └─ReLU (relu)                  [1000, 64, 7, 7]          [1000, 64, 7, 7]          --                        --\n",
       "│    │    └─Conv2d (conv2)               [1000, 64, 7, 7]          [1000, 64, 7, 7]          36,864                    True\n",
       "│    │    └─BatchNorm2d (bn2)            [1000, 64, 7, 7]          [1000, 64, 7, 7]          128                       True\n",
       "│    │    └─ReLU (relu)                  [1000, 64, 7, 7]          [1000, 64, 7, 7]          --                        --\n",
       "│    └─BasicBlock (1)                    [1000, 64, 7, 7]          [1000, 64, 7, 7]          --                        True\n",
       "│    │    └─Conv2d (conv1)               [1000, 64, 7, 7]          [1000, 64, 7, 7]          36,864                    True\n",
       "│    │    └─BatchNorm2d (bn1)            [1000, 64, 7, 7]          [1000, 64, 7, 7]          128                       True\n",
       "│    │    └─ReLU (relu)                  [1000, 64, 7, 7]          [1000, 64, 7, 7]          --                        --\n",
       "│    │    └─Conv2d (conv2)               [1000, 64, 7, 7]          [1000, 64, 7, 7]          36,864                    True\n",
       "│    │    └─BatchNorm2d (bn2)            [1000, 64, 7, 7]          [1000, 64, 7, 7]          128                       True\n",
       "│    │    └─ReLU (relu)                  [1000, 64, 7, 7]          [1000, 64, 7, 7]          --                        --\n",
       "├─Sequential (layer2)                    [1000, 64, 7, 7]          [1000, 128, 4, 4]         --                        True\n",
       "│    └─BasicBlock (0)                    [1000, 64, 7, 7]          [1000, 128, 4, 4]         --                        True\n",
       "│    │    └─Conv2d (conv1)               [1000, 64, 7, 7]          [1000, 128, 4, 4]         73,728                    True\n",
       "│    │    └─BatchNorm2d (bn1)            [1000, 128, 4, 4]         [1000, 128, 4, 4]         256                       True\n",
       "│    │    └─ReLU (relu)                  [1000, 128, 4, 4]         [1000, 128, 4, 4]         --                        --\n",
       "│    │    └─Conv2d (conv2)               [1000, 128, 4, 4]         [1000, 128, 4, 4]         147,456                   True\n",
       "│    │    └─BatchNorm2d (bn2)            [1000, 128, 4, 4]         [1000, 128, 4, 4]         256                       True\n",
       "│    │    └─Sequential (downsample)      [1000, 64, 7, 7]          [1000, 128, 4, 4]         8,448                     True\n",
       "│    │    └─ReLU (relu)                  [1000, 128, 4, 4]         [1000, 128, 4, 4]         --                        --\n",
       "│    └─BasicBlock (1)                    [1000, 128, 4, 4]         [1000, 128, 4, 4]         --                        True\n",
       "│    │    └─Conv2d (conv1)               [1000, 128, 4, 4]         [1000, 128, 4, 4]         147,456                   True\n",
       "│    │    └─BatchNorm2d (bn1)            [1000, 128, 4, 4]         [1000, 128, 4, 4]         256                       True\n",
       "│    │    └─ReLU (relu)                  [1000, 128, 4, 4]         [1000, 128, 4, 4]         --                        --\n",
       "│    │    └─Conv2d (conv2)               [1000, 128, 4, 4]         [1000, 128, 4, 4]         147,456                   True\n",
       "│    │    └─BatchNorm2d (bn2)            [1000, 128, 4, 4]         [1000, 128, 4, 4]         256                       True\n",
       "│    │    └─ReLU (relu)                  [1000, 128, 4, 4]         [1000, 128, 4, 4]         --                        --\n",
       "├─Sequential (layer3)                    [1000, 128, 4, 4]         [1000, 256, 2, 2]         --                        True\n",
       "│    └─BasicBlock (0)                    [1000, 128, 4, 4]         [1000, 256, 2, 2]         --                        True\n",
       "│    │    └─Conv2d (conv1)               [1000, 128, 4, 4]         [1000, 256, 2, 2]         294,912                   True\n",
       "│    │    └─BatchNorm2d (bn1)            [1000, 256, 2, 2]         [1000, 256, 2, 2]         512                       True\n",
       "│    │    └─ReLU (relu)                  [1000, 256, 2, 2]         [1000, 256, 2, 2]         --                        --\n",
       "│    │    └─Conv2d (conv2)               [1000, 256, 2, 2]         [1000, 256, 2, 2]         589,824                   True\n",
       "│    │    └─BatchNorm2d (bn2)            [1000, 256, 2, 2]         [1000, 256, 2, 2]         512                       True\n",
       "│    │    └─Sequential (downsample)      [1000, 128, 4, 4]         [1000, 256, 2, 2]         33,280                    True\n",
       "│    │    └─ReLU (relu)                  [1000, 256, 2, 2]         [1000, 256, 2, 2]         --                        --\n",
       "│    └─BasicBlock (1)                    [1000, 256, 2, 2]         [1000, 256, 2, 2]         --                        True\n",
       "│    │    └─Conv2d (conv1)               [1000, 256, 2, 2]         [1000, 256, 2, 2]         589,824                   True\n",
       "│    │    └─BatchNorm2d (bn1)            [1000, 256, 2, 2]         [1000, 256, 2, 2]         512                       True\n",
       "│    │    └─ReLU (relu)                  [1000, 256, 2, 2]         [1000, 256, 2, 2]         --                        --\n",
       "│    │    └─Conv2d (conv2)               [1000, 256, 2, 2]         [1000, 256, 2, 2]         589,824                   True\n",
       "│    │    └─BatchNorm2d (bn2)            [1000, 256, 2, 2]         [1000, 256, 2, 2]         512                       True\n",
       "│    │    └─ReLU (relu)                  [1000, 256, 2, 2]         [1000, 256, 2, 2]         --                        --\n",
       "├─Sequential (layer4)                    [1000, 256, 2, 2]         [1000, 512, 1, 1]         --                        True\n",
       "│    └─BasicBlock (0)                    [1000, 256, 2, 2]         [1000, 512, 1, 1]         --                        True\n",
       "│    │    └─Conv2d (conv1)               [1000, 256, 2, 2]         [1000, 512, 1, 1]         1,179,648                 True\n",
       "│    │    └─BatchNorm2d (bn1)            [1000, 512, 1, 1]         [1000, 512, 1, 1]         1,024                     True\n",
       "│    │    └─ReLU (relu)                  [1000, 512, 1, 1]         [1000, 512, 1, 1]         --                        --\n",
       "│    │    └─Conv2d (conv2)               [1000, 512, 1, 1]         [1000, 512, 1, 1]         2,359,296                 True\n",
       "│    │    └─BatchNorm2d (bn2)            [1000, 512, 1, 1]         [1000, 512, 1, 1]         1,024                     True\n",
       "│    │    └─Sequential (downsample)      [1000, 256, 2, 2]         [1000, 512, 1, 1]         132,096                   True\n",
       "│    │    └─ReLU (relu)                  [1000, 512, 1, 1]         [1000, 512, 1, 1]         --                        --\n",
       "│    └─BasicBlock (1)                    [1000, 512, 1, 1]         [1000, 512, 1, 1]         --                        True\n",
       "│    │    └─Conv2d (conv1)               [1000, 512, 1, 1]         [1000, 512, 1, 1]         2,359,296                 True\n",
       "│    │    └─BatchNorm2d (bn1)            [1000, 512, 1, 1]         [1000, 512, 1, 1]         1,024                     True\n",
       "│    │    └─ReLU (relu)                  [1000, 512, 1, 1]         [1000, 512, 1, 1]         --                        --\n",
       "│    │    └─Conv2d (conv2)               [1000, 512, 1, 1]         [1000, 512, 1, 1]         2,359,296                 True\n",
       "│    │    └─BatchNorm2d (bn2)            [1000, 512, 1, 1]         [1000, 512, 1, 1]         1,024                     True\n",
       "│    │    └─ReLU (relu)                  [1000, 512, 1, 1]         [1000, 512, 1, 1]         --                        --\n",
       "├─AdaptiveAvgPool2d (avgpool)            [1000, 512, 1, 1]         [1000, 512, 1, 1]         --                        --\n",
       "├─Linear (fc)                            [1000, 512]               [1000, 62]                31,806                    True\n",
       "============================================================================================================================================\n",
       "Total params: 11,202,046\n",
       "Trainable params: 11,202,046\n",
       "Non-trainable params: 0\n",
       "Total mult-adds (G): 33.05\n",
       "============================================================================================================================================\n",
       "Input size (MB): 3.14\n",
       "Forward/backward pass size (MB): 688.62\n",
       "Params size (MB): 44.81\n",
       "Estimated Total Size (MB): 736.57\n",
       "============================================================================================================================================"
      ]
     },
     "execution_count": 10,
     "metadata": {},
     "output_type": "execute_result"
    }
   ],
   "source": [
    "torchinfo.summary(model=mnist_model,\n",
    "                  input_size=(1000, 1, 28, 28), # 1000 data points, 1 channel, 28x28 images\n",
    "                  col_names=[\"input_size\", \"output_size\", \"num_params\", \"trainable\"],\n",
    "                  row_settings=[\"var_names\"],\n",
    "                  )"
   ]
  },
  {
   "cell_type": "markdown",
   "id": "2217a641-4617-4bd7-9807-3576047f3542",
   "metadata": {
    "tags": []
   },
   "source": [
    "## RESNET-18 for CIFAR-10"
   ]
  },
  {
   "cell_type": "markdown",
   "id": "80f9776d-d141-49ed-b23f-4c079c8e7d34",
   "metadata": {},
   "source": [
    "The following code can be used to create the initial model on the server:"
   ]
  },
  {
   "cell_type": "code",
   "execution_count": null,
   "id": "d713e988-3c1b-466d-87e1-aeb8502a974b",
   "metadata": {
    "tags": []
   },
   "outputs": [],
   "source": [
    "torch.manual_seed(47) # set manual seed so the model always has the same initial parameters\n",
    "cifar_model = resnet18(num_classes=10) # 10 cifar classes"
   ]
  },
  {
   "cell_type": "code",
   "execution_count": null,
   "id": "d01f03b9-1e85-4383-9f19-3c12ad36365d",
   "metadata": {
    "tags": []
   },
   "outputs": [
    {
     "data": {
      "text/plain": [
       "============================================================================================================================================\n",
       "Layer (type (var_name))                  Input Shape               Output Shape              Param #                   Trainable\n",
       "============================================================================================================================================\n",
       "ResNet (ResNet)                          [1000, 3, 32, 32]         [1000, 10]                --                        True\n",
       "├─Conv2d (conv1)                         [1000, 3, 32, 32]         [1000, 64, 16, 16]        9,408                     True\n",
       "├─BatchNorm2d (bn1)                      [1000, 64, 16, 16]        [1000, 64, 16, 16]        128                       True\n",
       "├─ReLU (relu)                            [1000, 64, 16, 16]        [1000, 64, 16, 16]        --                        --\n",
       "├─MaxPool2d (maxpool)                    [1000, 64, 16, 16]        [1000, 64, 8, 8]          --                        --\n",
       "├─Sequential (layer1)                    [1000, 64, 8, 8]          [1000, 64, 8, 8]          --                        True\n",
       "│    └─BasicBlock (0)                    [1000, 64, 8, 8]          [1000, 64, 8, 8]          --                        True\n",
       "│    │    └─Conv2d (conv1)               [1000, 64, 8, 8]          [1000, 64, 8, 8]          36,864                    True\n",
       "│    │    └─BatchNorm2d (bn1)            [1000, 64, 8, 8]          [1000, 64, 8, 8]          128                       True\n",
       "│    │    └─ReLU (relu)                  [1000, 64, 8, 8]          [1000, 64, 8, 8]          --                        --\n",
       "│    │    └─Conv2d (conv2)               [1000, 64, 8, 8]          [1000, 64, 8, 8]          36,864                    True\n",
       "│    │    └─BatchNorm2d (bn2)            [1000, 64, 8, 8]          [1000, 64, 8, 8]          128                       True\n",
       "│    │    └─ReLU (relu)                  [1000, 64, 8, 8]          [1000, 64, 8, 8]          --                        --\n",
       "│    └─BasicBlock (1)                    [1000, 64, 8, 8]          [1000, 64, 8, 8]          --                        True\n",
       "│    │    └─Conv2d (conv1)               [1000, 64, 8, 8]          [1000, 64, 8, 8]          36,864                    True\n",
       "│    │    └─BatchNorm2d (bn1)            [1000, 64, 8, 8]          [1000, 64, 8, 8]          128                       True\n",
       "│    │    └─ReLU (relu)                  [1000, 64, 8, 8]          [1000, 64, 8, 8]          --                        --\n",
       "│    │    └─Conv2d (conv2)               [1000, 64, 8, 8]          [1000, 64, 8, 8]          36,864                    True\n",
       "│    │    └─BatchNorm2d (bn2)            [1000, 64, 8, 8]          [1000, 64, 8, 8]          128                       True\n",
       "│    │    └─ReLU (relu)                  [1000, 64, 8, 8]          [1000, 64, 8, 8]          --                        --\n",
       "├─Sequential (layer2)                    [1000, 64, 8, 8]          [1000, 128, 4, 4]         --                        True\n",
       "│    └─BasicBlock (0)                    [1000, 64, 8, 8]          [1000, 128, 4, 4]         --                        True\n",
       "│    │    └─Conv2d (conv1)               [1000, 64, 8, 8]          [1000, 128, 4, 4]         73,728                    True\n",
       "│    │    └─BatchNorm2d (bn1)            [1000, 128, 4, 4]         [1000, 128, 4, 4]         256                       True\n",
       "│    │    └─ReLU (relu)                  [1000, 128, 4, 4]         [1000, 128, 4, 4]         --                        --\n",
       "│    │    └─Conv2d (conv2)               [1000, 128, 4, 4]         [1000, 128, 4, 4]         147,456                   True\n",
       "│    │    └─BatchNorm2d (bn2)            [1000, 128, 4, 4]         [1000, 128, 4, 4]         256                       True\n",
       "│    │    └─Sequential (downsample)      [1000, 64, 8, 8]          [1000, 128, 4, 4]         8,448                     True\n",
       "│    │    └─ReLU (relu)                  [1000, 128, 4, 4]         [1000, 128, 4, 4]         --                        --\n",
       "│    └─BasicBlock (1)                    [1000, 128, 4, 4]         [1000, 128, 4, 4]         --                        True\n",
       "│    │    └─Conv2d (conv1)               [1000, 128, 4, 4]         [1000, 128, 4, 4]         147,456                   True\n",
       "│    │    └─BatchNorm2d (bn1)            [1000, 128, 4, 4]         [1000, 128, 4, 4]         256                       True\n",
       "│    │    └─ReLU (relu)                  [1000, 128, 4, 4]         [1000, 128, 4, 4]         --                        --\n",
       "│    │    └─Conv2d (conv2)               [1000, 128, 4, 4]         [1000, 128, 4, 4]         147,456                   True\n",
       "│    │    └─BatchNorm2d (bn2)            [1000, 128, 4, 4]         [1000, 128, 4, 4]         256                       True\n",
       "│    │    └─ReLU (relu)                  [1000, 128, 4, 4]         [1000, 128, 4, 4]         --                        --\n",
       "├─Sequential (layer3)                    [1000, 128, 4, 4]         [1000, 256, 2, 2]         --                        True\n",
       "│    └─BasicBlock (0)                    [1000, 128, 4, 4]         [1000, 256, 2, 2]         --                        True\n",
       "│    │    └─Conv2d (conv1)               [1000, 128, 4, 4]         [1000, 256, 2, 2]         294,912                   True\n",
       "│    │    └─BatchNorm2d (bn1)            [1000, 256, 2, 2]         [1000, 256, 2, 2]         512                       True\n",
       "│    │    └─ReLU (relu)                  [1000, 256, 2, 2]         [1000, 256, 2, 2]         --                        --\n",
       "│    │    └─Conv2d (conv2)               [1000, 256, 2, 2]         [1000, 256, 2, 2]         589,824                   True\n",
       "│    │    └─BatchNorm2d (bn2)            [1000, 256, 2, 2]         [1000, 256, 2, 2]         512                       True\n",
       "│    │    └─Sequential (downsample)      [1000, 128, 4, 4]         [1000, 256, 2, 2]         33,280                    True\n",
       "│    │    └─ReLU (relu)                  [1000, 256, 2, 2]         [1000, 256, 2, 2]         --                        --\n",
       "│    └─BasicBlock (1)                    [1000, 256, 2, 2]         [1000, 256, 2, 2]         --                        True\n",
       "│    │    └─Conv2d (conv1)               [1000, 256, 2, 2]         [1000, 256, 2, 2]         589,824                   True\n",
       "│    │    └─BatchNorm2d (bn1)            [1000, 256, 2, 2]         [1000, 256, 2, 2]         512                       True\n",
       "│    │    └─ReLU (relu)                  [1000, 256, 2, 2]         [1000, 256, 2, 2]         --                        --\n",
       "│    │    └─Conv2d (conv2)               [1000, 256, 2, 2]         [1000, 256, 2, 2]         589,824                   True\n",
       "│    │    └─BatchNorm2d (bn2)            [1000, 256, 2, 2]         [1000, 256, 2, 2]         512                       True\n",
       "│    │    └─ReLU (relu)                  [1000, 256, 2, 2]         [1000, 256, 2, 2]         --                        --\n",
       "├─Sequential (layer4)                    [1000, 256, 2, 2]         [1000, 512, 1, 1]         --                        True\n",
       "│    └─BasicBlock (0)                    [1000, 256, 2, 2]         [1000, 512, 1, 1]         --                        True\n",
       "│    │    └─Conv2d (conv1)               [1000, 256, 2, 2]         [1000, 512, 1, 1]         1,179,648                 True\n",
       "│    │    └─BatchNorm2d (bn1)            [1000, 512, 1, 1]         [1000, 512, 1, 1]         1,024                     True\n",
       "│    │    └─ReLU (relu)                  [1000, 512, 1, 1]         [1000, 512, 1, 1]         --                        --\n",
       "│    │    └─Conv2d (conv2)               [1000, 512, 1, 1]         [1000, 512, 1, 1]         2,359,296                 True\n",
       "│    │    └─BatchNorm2d (bn2)            [1000, 512, 1, 1]         [1000, 512, 1, 1]         1,024                     True\n",
       "│    │    └─Sequential (downsample)      [1000, 256, 2, 2]         [1000, 512, 1, 1]         132,096                   True\n",
       "│    │    └─ReLU (relu)                  [1000, 512, 1, 1]         [1000, 512, 1, 1]         --                        --\n",
       "│    └─BasicBlock (1)                    [1000, 512, 1, 1]         [1000, 512, 1, 1]         --                        True\n",
       "│    │    └─Conv2d (conv1)               [1000, 512, 1, 1]         [1000, 512, 1, 1]         2,359,296                 True\n",
       "│    │    └─BatchNorm2d (bn1)            [1000, 512, 1, 1]         [1000, 512, 1, 1]         1,024                     True\n",
       "│    │    └─ReLU (relu)                  [1000, 512, 1, 1]         [1000, 512, 1, 1]         --                        --\n",
       "│    │    └─Conv2d (conv2)               [1000, 512, 1, 1]         [1000, 512, 1, 1]         2,359,296                 True\n",
       "│    │    └─BatchNorm2d (bn2)            [1000, 512, 1, 1]         [1000, 512, 1, 1]         1,024                     True\n",
       "│    │    └─ReLU (relu)                  [1000, 512, 1, 1]         [1000, 512, 1, 1]         --                        --\n",
       "├─AdaptiveAvgPool2d (avgpool)            [1000, 512, 1, 1]         [1000, 512, 1, 1]         --                        --\n",
       "├─Linear (fc)                            [1000, 512]               [1000, 10]                5,130                     True\n",
       "============================================================================================================================================\n",
       "Total params: 11,181,642\n",
       "Trainable params: 11,181,642\n",
       "Non-trainable params: 0\n",
       "Total mult-adds (G): 37.03\n",
       "============================================================================================================================================\n",
       "Input size (MB): 12.29\n",
       "Forward/backward pass size (MB): 811.09\n",
       "Params size (MB): 44.73\n",
       "Estimated Total Size (MB): 868.10\n",
       "============================================================================================================================================"
      ]
     },
     "execution_count": 5,
     "metadata": {},
     "output_type": "execute_result"
    }
   ],
   "source": [
    "torchinfo.summary(model=cifar_model,\n",
    "                  input_size=(1000, 3, 32, 32), # 1000 datapoints, 3 channels, 32x32 image size\n",
    "                  col_names=[\"input_size\", \"output_size\", \"num_params\", \"trainable\"],\n",
    "                  row_settings=[\"var_names\"],\n",
    "                  )"
   ]
  }
 ],
 "metadata": {
  "kernelspec": {
   "display_name": "Python 3 (ipykernel)",
   "language": "python",
   "name": "python3"
  },
  "language_info": {
   "codemirror_mode": {
    "name": "ipython",
    "version": 3
   },
   "file_extension": ".py",
   "mimetype": "text/x-python",
   "name": "python",
   "nbconvert_exporter": "python",
   "pygments_lexer": "ipython3",
   "version": "3.9.12"
  }
 },
 "nbformat": 4,
 "nbformat_minor": 5
}
